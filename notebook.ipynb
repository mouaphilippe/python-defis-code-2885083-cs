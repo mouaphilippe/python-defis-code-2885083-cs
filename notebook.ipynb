{
  "cells": [
    {
      "cell_type": "markdown",
      "metadata": {
        "id": "MbZyA61s9QD4"
      },
      "source": [
        "# Réfléchir et résoudre : \"Growth and Learning\""
      ]
    },
    {
      "cell_type": "markdown",
      "metadata": {
        "id": "U1wq0qXQ6LLj"
      },
      "source": [
        "# Combattre la routine : \"Fighting Each Other\""
      ]
    },
    {
      "cell_type": "markdown",
      "metadata": {
        "id": "EYHOS1yv6eyT"
      },
      "source": [
        "## 1) Nettoyer le \"for k\""
      ]
    },
    {
      "cell_type": "markdown",
      "metadata": {
        "id": "lUmQ093EwzoB"
      },
      "source": [
        "### Défi"
      ]
    },
    {
      "cell_type": "code",
      "execution_count": 1,
      "metadata": {
        "id": "G5zwdMJDnSLD"
      },
      "outputs": [],
      "source": [
        "personnages = [\n",
        "  \"Client-e\", \n",
        "  \"Maître-sse d'hôtel\", \n",
        "  \"Chef-fe\",\n",
        "  \"Serveuse/serveur\", \n",
        "]\n",
        "etapes = [\n",
        "  [ [  0, \"Se présenter\" ],\n",
        "    [  3, \"Choisir\" ],\n",
        "    [  5, \"Signaler une fourchette sale\" ],\n",
        "    [  9, \"Donner son choix\" ],\n",
        "    [ 14, \"Manger\" ],\n",
        "    [ 16, \"Demander l'addition\" ],\n",
        "    [ 18, \"Payer\" ],\n",
        "    [ 19, \"Partir\" ]\n",
        "  ],\n",
        "  [ [  1, \"Conduire à la table\" ],\n",
        "    [  2, \"Donner une carte\" ],\n",
        "    [  4, \"Renseigner le client\" ],\n",
        "    [  6, \"S'excuser \" ],\n",
        "    [  7, \"Remplacer par une fourchette propre\" ],\n",
        "    [  8, \"Commencer la prise de commande\" ],\n",
        "    [ 10, \"Transmettre en cuisine\" ],\n",
        "    [ 17, \"Amener l'addition\" ]\n",
        "  ],\n",
        "  [ [ 11, \"Préparer les plats\" ],\n",
        "    [ 12, \"Indiquer la disponibilité\" ]\n",
        "  ],\n",
        "  [ [ 13, \"Servir le plat\" ],\n",
        "    [ 15, \"Débarrasser\" ]\n",
        "  ],\n",
        "]"
      ]
    },
    {
      "cell_type": "code",
      "execution_count": 2,
      "metadata": {
        "colab": {
          "base_uri": "https://localhost:8080/"
        },
        "id": "RkxMhOgZrNSj",
        "outputId": "c341dbef-74dc-4fb5-b4e3-0249532632db"
      },
      "outputs": [
        {
          "name": "stdout",
          "output_type": "stream",
          "text": [
            "1 Client-e : Se présenter\n",
            "2 Maître-sse d'hôtel : Conduire à la table\n",
            "3 Maître-sse d'hôtel : Donner une carte\n",
            "4 Client-e : Choisir\n",
            "5 Maître-sse d'hôtel : Renseigner le client\n",
            "6 Client-e : Signaler une fourchette sale\n",
            "7 Maître-sse d'hôtel : S'excuser \n",
            "8 Maître-sse d'hôtel : Remplacer par une fourchette propre\n",
            "9 Maître-sse d'hôtel : Commencer la prise de commande\n",
            "10 Client-e : Donner son choix\n",
            "11 Maître-sse d'hôtel : Transmettre en cuisine\n",
            "12 Chef-fe : Préparer les plats\n",
            "13 Chef-fe : Indiquer la disponibilité\n",
            "14 Serveuse/serveur : Servir le plat\n",
            "15 Client-e : Manger\n",
            "16 Serveuse/serveur : Débarrasser\n",
            "17 Client-e : Demander l'addition\n",
            "18 Maître-sse d'hôtel : Amener l'addition\n",
            "19 Client-e : Payer\n",
            "20 Client-e : Partir\n",
            "\n",
            "91 itérations\n"
          ]
        }
      ],
      "source": [
        "iterations = 0\n",
        "i = 0\n",
        "j = 0\n",
        "while i < 20:\n",
        "  for k in range(len(etapes[j])):\n",
        "    iterations += 1\n",
        "    etape, action = etapes[j][k]\n",
        "    if etape < i:\n",
        "      continue\n",
        "    if etape > i:\n",
        "      break\n",
        "    print(i+1, personnages[j], ':', action)\n",
        "    i += 1\n",
        "  j = (j + 1) % len(personnages)\n",
        "\n",
        "print()\n",
        "print(iterations, \"itérations\")"
      ]
    },
    {
      "cell_type": "code",
      "execution_count": 3,
      "metadata": {},
      "outputs": [
        {
          "name": "stdout",
          "output_type": "stream",
          "text": [
            "1 : Client-e : Se présenter\n",
            "2 : Maître-sse d'hôtel : Conduire à la table\n",
            "3 : Maître-sse d'hôtel : Donner une carte\n",
            "4 : Client-e : Choisir\n",
            "5 : Maître-sse d'hôtel : Renseigner le client\n",
            "6 : Client-e : Signaler une fourchette sale\n",
            "7 : Maître-sse d'hôtel : S'excuser \n",
            "8 : Maître-sse d'hôtel : Remplacer par une fourchette propre\n",
            "9 : Maître-sse d'hôtel : Commencer la prise de commande\n",
            "10 : Client-e : Donner son choix\n",
            "11 : Maître-sse d'hôtel : Transmettre en cuisine\n",
            "12 : Chef-fe : Préparer les plats\n",
            "13 : Chef-fe : Indiquer la disponibilité\n",
            "14 : Serveuse/serveur : Servir le plat\n",
            "15 : Client-e : Manger\n",
            "16 : Serveuse/serveur : Débarrasser\n",
            "17 : Client-e : Demander l'addition\n",
            "18 : Maître-sse d'hôtel : Amener l'addition\n",
            "19 : Client-e : Payer\n",
            "20 : Client-e : Partir\n",
            "\n",
            "40 itérations\n"
          ]
        }
      ],
      "source": [
        "iterations = 0\n",
        "sorted_etapes = []\n",
        "\n",
        "for i in range(len(etapes)):\n",
        "    for j in range(len(etapes[i])):\n",
        "        etapes[i][j].append(personnages[i])\n",
        "        iterations +=1\n",
        "\n",
        "etapes = etapes[0] + etapes[1] + etapes[2] + etapes[3]\n",
        "sorted_etapes = sorted(etapes, key=lambda x:x[0])\n",
        "\n",
        "for i in range(len(sorted_etapes)):\n",
        "    print(f\"{int(sorted_etapes[i][0])+1} : {sorted_etapes[i][2]} : {sorted_etapes[i][1]}\")\n",
        "    iterations+=1\n",
        "    \n",
        "print()\n",
        "print(iterations, \"itérations\")"
      ]
    },
    {
      "cell_type": "markdown",
      "metadata": {
        "id": "_FwKM6Df6hPy"
      },
      "source": [
        "## 2) Varier ses variables"
      ]
    },
    {
      "cell_type": "markdown",
      "metadata": {
        "id": "6xwMHZY-6smL"
      },
      "source": [
        "## 3) Adopter une drôle de démarche"
      ]
    },
    {
      "cell_type": "markdown",
      "metadata": {
        "id": "Z4DaiAa46w8L"
      },
      "source": [
        "# Intégrer l'existant : \"Live Organ Transplants\""
      ]
    },
    {
      "cell_type": "markdown",
      "metadata": {},
      "source": [
        "## 1) Réparer la machine qui fait \\\"Bing\\\""
      ]
    },
    {
      "cell_type": "markdown",
      "metadata": {
        "id": "NajPU3UNqjyn"
      },
      "source": [
        "## 2) Soigner ses arguments"
      ]
    },
    {
      "cell_type": "markdown",
      "metadata": {
        "id": "MLND-5kFqqjI"
      },
      "source": [
        "## 3) Cerner la souris et son problème"
      ]
    },
    {
      "cell_type": "markdown",
      "metadata": {
        "id": "ZXpDQr_g7JT7"
      },
      "source": [
        "# Éprouver votre endurance : \"The Autumn Years\""
      ]
    },
    {
      "cell_type": "markdown",
      "metadata": {
        "id": "VKJUGrd3BGv_"
      },
      "source": [
        "## 1) Dépouiller les votes"
      ]
    },
    {
      "cell_type": "markdown",
      "metadata": {
        "id": "SA0rIZ70Hvoe"
      },
      "source": [
        "## 2) Prendre le dessus"
      ]
    },
    {
      "cell_type": "markdown",
      "metadata": {},
      "source": [
        "## 3) Appréhender le pire défi Python"
      ]
    }
  ],
  "metadata": {
    "colab": {
      "collapsed_sections": [
        "-Vatf6FjoOI1",
        "M-dCDr0twu_p",
        "XWzopJmxKbu0",
        "J1DBepVJvbzQ",
        "MLND-5kFqqjI"
      ],
      "name": "Défis de code Python.ipynb",
      "provenance": []
    },
    "kernelspec": {
      "display_name": "Python 3.10.4 64-bit",
      "language": "python",
      "name": "python3"
    },
    "language_info": {
      "codemirror_mode": {
        "name": "ipython",
        "version": 3
      },
      "file_extension": ".py",
      "mimetype": "text/x-python",
      "name": "python",
      "nbconvert_exporter": "python",
      "pygments_lexer": "ipython3",
      "version": "3.10.8"
    },
    "vscode": {
      "interpreter": {
        "hash": "4f946df053fbf2b937619d3c5458e7af74262f9a954d8797ba0b27400bcafe06"
      }
    }
  },
  "nbformat": 4,
  "nbformat_minor": 0
}
