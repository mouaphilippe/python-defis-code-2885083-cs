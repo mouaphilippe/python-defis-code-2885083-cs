{
  "cells": [
    {
      "cell_type": "markdown",
      "metadata": {
        "id": "MbZyA61s9QD4"
      },
      "source": [
        "# Réfléchir et résoudre : \"Growth and Learning\""
      ]
    },
    {
      "cell_type": "markdown",
      "metadata": {
        "id": "U1wq0qXQ6LLj"
      },
      "source": [
        "# Combattre la routine : \"Fighting Each Other\""
      ]
    },
    {
      "cell_type": "markdown",
      "metadata": {
        "id": "Z4DaiAa46w8L"
      },
      "source": [
        "# Intégrer l'existant : \"Live Organ Transplants\""
      ]
    },
    {
      "cell_type": "markdown",
      "metadata": {},
      "source": [
        "## 1) Réparer la machine qui fait \\\"Bing\\\""
      ]
    },
    {
      "cell_type": "markdown",
      "metadata": {
        "id": "NajPU3UNqjyn"
      },
      "source": [
        "## 2) Soigner ses arguments"
      ]
    },
    {
      "cell_type": "markdown",
      "metadata": {
        "id": "C_A9NUajxbw3"
      },
      "source": [
        "### Défi"
      ]
    },
    {
      "cell_type": "code",
      "execution_count": 68,
      "metadata": {
        "colab": {
          "base_uri": "https://localhost:8080/"
        },
        "id": "EJzMISVXLCrX",
        "outputId": "e3936f0b-737a-490d-a7e2-bebdf5a5e972"
      },
      "outputs": [
        {
          "name": "stdout",
          "output_type": "stream",
          "text": [
            "Usage: prog -x [arguments]\n",
            "-a, --autorite: aucun argument\n",
            "-b, --bonnefoi: aucun argument\n",
            "-c, --comparaison: 2 argument(s)\n",
            "-d, --definition: 2 argument(s)\n",
            "-e, --extreme: 1 argument(s)\n",
            "-f, --afortiori: 2 argument(s)\n",
            "-g, --gaspi: 1 argument(s)\n",
            "-h, --adhominem: 2 argument(s)\n",
            "-i, --incompatible: 1 argument(s)\n",
            "-j, --justice: aucun argument\n",
            "-l, --alternative: 2 argument(s)\n",
            "-m, --forcemajeur: aucun argument\n",
            "-n, --narration: 1 argument(s)\n",
            "-o, --opportunité: aucun argument\n",
            "-p, --adpersonam: aucun argument\n",
            "-q, --quantité: aucun argument\n",
            "-r, --reciprocité: 2 argument(s)\n",
            "-s, --sacrifice: aucun argument\n",
            "Si c'est valable pour les smartphones, rien n'empêche de le considérer pour les ordinateurs.\n",
            "Comparaison n'est pas raison ! On ne peut assimiler les smartphones et les ordinateurs.\n",
            "Vous prônez l'économie d'énergie mais ça ne vous empêche pas de rouler en 4x4.\n",
            "Il y a des choses qui ont plus d'impact sur l'économie d'énergie.\n",
            "On ne peut comprendre que si l'on est sur le terrain.\n",
            "Cela peut aussi faire perdre son objectivité.\n"
          ]
        }
      ],
      "source": [
        "ref = { \n",
        "  \"a\": [ \"autorite\"    , 0, \"Les experts sont unanimes.\", \"Il y a des voix dissonantes.\" ],\n",
        "  \"b\": [ \"bonnefoi\"    , 0, \"Nous avons toujours été guidés par le désir de bien faire.\", \"L'enfer est pavé de bonnes intentions.\" ],\n",
        "  \"c\": [ \"comparaison\" , 2, \"Si c'est valable pour {0}, rien n'empêche de le considérer pour {1}.\", \"Comparaison n'est pas raison ! On ne peut assimiler {0} et {1}.\" ],\n",
        "  \"d\": [ \"definition\"  , 2, \"{0} c'est d'abord {1}.\", \"{0} c'est bien autre chose.\" ],\n",
        "  \"e\": [ \"extreme\"     , 1, \"Et pourquoi pas {0}, tant que vous y êtes !.\", \"Inutile d'exagérer !.\" ],\n",
        "  \"f\": [ \"afortiori\"   , 2, \"Si c'est valable pour {0} ça l'est à plus forte raison aussi pour {1}.\", \"Oui, mais il y a des solutions plus adaptées.\" ],\n",
        "  \"g\": [ \"gaspi\"       , 1, \"Ça fera économiser beaucoup de {0}.\", \"Il y a d'autres moyens d'en économiser.\" ],\n",
        "  \"h\": [ \"adhominem\"   , 2, \"Vous prônez {0} mais ça ne vous empêche pas de {1}.\", \"Il y a des choses qui ont plus d'impact sur {0}.\" ],\n",
        "  \"i\": [ \"incompatible\", 1, \"On ne peut comprendre que si l'on est {0}.\", \"Cela peut aussi faire perdre son objectivité.\" ],\n",
        "  \"j\": [ \"justice\"     , 0, \"On ne peut faire aucune exception.\", \"Il le faut, les conditions de départ sont différentes.\" ],\n",
        "  \"l\": [ \"alternative\" , 2, \"Il faut choisir : soit {0}, soit {1}.\", \"Le monde n'est pas tout blanc ou tout noir, une troisième piste est envisageable.\" ],\n",
        "  \"m\": [ \"forcemajeur\" , 0, \"Il n'y a aucune autre méthode éprouvée.\", \"Tout n'a pas encore été essayé.\" ],\n",
        "  \"n\": [ \"narration\"   , 1, \"Vous connaissez {0}, vous vous rappelez comment ça se termine.\", \"Ici, c'est la vraie vie, pas une fiction.\" ], \n",
        "  \"o\": [ \"opportunité\" , 0, \"C'est vraiment le bon moment, toutes les conditions sont réunies.\", \"Il ne faut pas confondre vitesse et précipitation.\" ],\n",
        "  \"p\": [ \"adpersonam\"  , 0, \"Vous êtes mal placé pour dire ça.\", \"Au contraire, je suis plus que légitime.\" ],\n",
        "  \"q\": [ \"quantité\"    , 0, \"C'est ce que demande la majorité.\", \"On est toujours minoritaire quand on ouvre la voie.\" ],\n",
        "  \"r\": [ \"reciprocité\" , 2, \"On ne peut {0} d'un côté sans {1} de l'autre.\", \"On peut tout à fait, il y bien d'autres effets bénéfiques.\" ], \n",
        "  \"s\": [ \"sacrifice\"   , 0, \"Ça a demander un effort considérable.\", \"Ne fallait-il pas vérifier avant si le jeu en valait vraiment la chandelle.\" ]\n",
        "}\n",
        "# prog --adhominem \"l'économie d'énergie/rouler en 4x4\" -ic \"sur le terrain\" \"les smartphones/les ordinateurs\"\n",
        "argv = [\n",
        "    \"--adhominem\", \"l'économie d'énergie/rouler en 4x4\",\n",
        "    \"-ic\", \"sur le terrain\", \"les smartphones/les ordinateurs\"\n",
        "]\n",
        "\n",
        "# Affichage attendu :\n",
        "# Vous prônez l'économie d'énergie mais ça ne vous empêche pas de rouler en 4x4.\n",
        "# Il y a des choses qui ont plus d'impact sur l'économie d'énergie.\n",
        "\n",
        "# On ne peut comprendre que si l'on est sur le terrain.\n",
        "# Cela peut aussi faire perdre son objectivité.\n",
        "\n",
        "# Si c'est valable pour les smartphones, rien n'empêche de le considérer pour les ordinateurs.\n",
        "# Comparaison n'est pas raison ! On ne peut assimiler les smartphones et les ordinateurs.\n",
        "\n",
        "def usage():\n",
        "  print(\"Usage: prog -x [arguments]\")\n",
        "  for cmd, infos in ref.items():\n",
        "    texte = str(infos[1]) + \" argument(s)\" if infos[1]>0 else \"aucun argument\"\n",
        "    print(\"-\" + cmd + \", --\" + infos[0] + \": \" + texte )\n",
        "\n",
        "usage()\n",
        "\n",
        "list_arg=[]\n",
        "\n",
        "for i in range(len(argv)):\n",
        "  if argv[i][0] == \"-\":\n",
        "    if argv[i][1] == \"-\":\n",
        "      splited = argv[i+1].split(\"/\")\n",
        "      #print(splited)\n",
        "      temp_list=[]\n",
        "      temp_list.append(argv[i])\n",
        "      #print(temp_list)\n",
        "      temp_list = temp_list + splited\n",
        "      list_arg.append(temp_list)\n",
        "      #print(list_arg)\n",
        "\n",
        "    else:\n",
        "      for j in range(len(argv[i])-1):\n",
        "        temp_list=[]\n",
        "        temp_list.append(\"-\" + argv[i][j+1])\n",
        "        #print(temp_list)\n",
        "        splited = argv[i+j+1].split(\"/\")\n",
        "        temp_list = temp_list + splited\n",
        "        list_arg.append(temp_list)\n",
        "#print(list_arg)\n",
        "\n",
        "for cmd, infos in ref.items():\n",
        "  for e in list_arg:\n",
        "    if e[0] == \"--\" + infos[0]:\n",
        "      text = infos[2:len(infos)]\n",
        "      #print(text)\n",
        "      for f in range(len(text)):\n",
        "        for g in range(text[f].count(\"{\")):\n",
        "          new_text = text[f].replace(\"{\"+ str(g) + \"}\",e[g+1])\n",
        "          text[f]= new_text\n",
        "        print(text[f])\n",
        "    \n",
        "    if e[0] == \"-\" + cmd:\n",
        "      text = infos[2:len(infos)]\n",
        "      #print(text)\n",
        "      for f in range(len(text)):\n",
        "        for g in range(text[f].count(\"{\")):\n",
        "          new_text = text[f].replace(\"{\"+ str(g) + \"}\",e[g+1])\n",
        "          text[f]= new_text\n",
        "        print(text[f])\n",
        "\n",
        "\n"
      ]
    },
    {
      "cell_type": "markdown",
      "metadata": {
        "id": "MLND-5kFqqjI"
      },
      "source": [
        "## 3) Cerner la souris et son problème"
      ]
    },
    {
      "cell_type": "markdown",
      "metadata": {
        "id": "ZXpDQr_g7JT7"
      },
      "source": [
        "# Éprouver votre endurance : \"The Autumn Years\""
      ]
    },
    {
      "cell_type": "markdown",
      "metadata": {
        "id": "VKJUGrd3BGv_"
      },
      "source": [
        "## 1) Dépouiller les votes"
      ]
    },
    {
      "cell_type": "markdown",
      "metadata": {
        "id": "SA0rIZ70Hvoe"
      },
      "source": [
        "## 2) Prendre le dessus"
      ]
    },
    {
      "cell_type": "markdown",
      "metadata": {},
      "source": [
        "## 3) Appréhender le pire défi Python"
      ]
    }
  ],
  "metadata": {
    "colab": {
      "collapsed_sections": [
        "-Vatf6FjoOI1",
        "M-dCDr0twu_p",
        "XWzopJmxKbu0",
        "J1DBepVJvbzQ",
        "MLND-5kFqqjI"
      ],
      "name": "Défis de code Python.ipynb",
      "provenance": []
    },
    "kernelspec": {
      "display_name": "Python 3.10.4 64-bit",
      "language": "python",
      "name": "python3"
    },
    "language_info": {
      "codemirror_mode": {
        "name": "ipython",
        "version": 3
      },
      "file_extension": ".py",
      "mimetype": "text/x-python",
      "name": "python",
      "nbconvert_exporter": "python",
      "pygments_lexer": "ipython3",
      "version": "3.10.8"
    },
    "vscode": {
      "interpreter": {
        "hash": "4f946df053fbf2b937619d3c5458e7af74262f9a954d8797ba0b27400bcafe06"
      }
    }
  },
  "nbformat": 4,
  "nbformat_minor": 0
}
