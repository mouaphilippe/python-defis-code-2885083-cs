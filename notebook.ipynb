{
  "cells": [
    {
      "cell_type": "markdown",
      "metadata": {
        "id": "MbZyA61s9QD4"
      },
      "source": [
        "# Réfléchir et résoudre : \"Growth and Learning\""
      ]
    },
    {
      "cell_type": "markdown",
      "metadata": {
        "id": "U1wq0qXQ6LLj"
      },
      "source": [
        "# Combattre la routine : \"Fighting Each Other\""
      ]
    },
    {
      "cell_type": "markdown",
      "metadata": {
        "id": "Z4DaiAa46w8L"
      },
      "source": [
        "# Intégrer l'existant : \"Live Organ Transplants\""
      ]
    },
    {
      "cell_type": "markdown",
      "metadata": {
        "id": "ZXpDQr_g7JT7"
      },
      "source": [
        "# Éprouver votre endurance : \"The Autumn Years\""
      ]
    },
    {
      "cell_type": "markdown",
      "metadata": {
        "id": "VKJUGrd3BGv_"
      },
      "source": [
        "## 1) Dépouiller les votes"
      ]
    },
    {
      "cell_type": "markdown",
      "metadata": {
        "id": "SA0rIZ70Hvoe"
      },
      "source": [
        "## 2) Prendre le dessus"
      ]
    },
    {
      "cell_type": "markdown",
      "metadata": {
        "id": "7DHtfapKxr20"
      },
      "source": [
        "### Défi"
      ]
    },
    {
      "cell_type": "code",
      "execution_count": 7,
      "metadata": {
        "id": "JxG12C_LxtJE",
        "outputId": "0e0e590b-5187-4b83-c689-b50073392e7e"
      },
      "outputs": [],
      "source": [
        "def rassembler(etages):\n",
        "  '''\n",
        "  >>> rassembler([0, 0, 0])\n",
        "  []\n",
        "  >>> rassembler([0, 1, 1])\n",
        "  [(0, 1)]\n",
        "  >>> rassembler([1, 0, 2])\n",
        "  [(0, 2), (1, 2)]\n",
        "  >>> rassembler([1, 0, 1, 2])\n",
        "  [(1, 0), (1, 2), (0, 1), (0, 2), (1, 2)]\n",
        "  >>> rassembler([0, 0, 2, 1, 2, 0])\n",
        "  [(2, 1), (0, 2), (0, 1), (2, 1), (2, 0), (1, 2), (1, 0), (2, 0), (1, 2), (0, 1), (0, 2), (1, 2), (1, 0), (2, 0), (2, 1), (0, 1), (2, 0), (1, 2), (1, 0), (2, 0)]\n",
        "  '''\n",
        "  deplacements = []\n",
        "  rassembler_rec(etages, len(etages), etages[-1], deplacements)\n",
        "  return deplacements\n",
        "\n",
        "\n",
        "def rassembler_rec(etages, taille, arrivee, deplacements):\n",
        "  if taille:\n",
        "    indice_dernier = taille-1\n",
        "    depart = etages[indice_dernier]\n",
        "    if depart != arrivee:\n",
        "      autre = 3-depart-arrivee\n",
        "      rassembler_rec(etages, indice_dernier, autre, deplacements)\n",
        "      deplacements.append((depart, arrivee))\n",
        "      etages[indice_dernier] = arrivee\n",
        "    rassembler_rec(etages, indice_dernier, arrivee, deplacements)\n",
        "\n",
        "import doctest\n",
        "doctest.run_docstring_examples(rassembler, globals())"
      ]
    },
    {
      "cell_type": "markdown",
      "metadata": {
        "id": "WOOHpLt9y9Zd"
      },
      "source": [
        "### Animation"
      ]
    },
    {
      "cell_type": "code",
      "execution_count": 8,
      "metadata": {
        "id": "xfYIt-vgy-AN"
      },
      "outputs": [
        {
          "data": {
            "text/html": [
              "<style>\n",
              "      #h { border-collapse:collapse; border-spacing:0; }\n",
              "      #h th { text-align: center; }\n",
              "      #h td { vertical-align:bottom; padding:0; border:none; }\n",
              "      #h .s { border:0; width:370px; height:10px; background:#111; }\n",
              "      #h .e { margin:0 auto; border:1px solid #333; border-radius:10px; height:20px; background:#8cc; }\n",
              "      #h .v { height:120px;}\n",
              "    </style><table id='h'>\n",
              "      <tr><td><div class='v'></div></td>\n",
              "      <td id='c0'></td><td id='c1'></td><td id='c2'></td></tr>\n",
              "      <tr><th></th><th>1</th><th>2</th><th>3</th></tr>\n",
              "    </table><script>\n",
              "        var id, cols = [], t = [[], [5, 4, 3, 1], [2]]\n",
              "        var deplacements=[[1, 0], [2, 1], [0, 1]]\n",
              "        var dessiner = () => {\n",
              "            for(col = 0; col < 3; col++) {\n",
              "                s = ''\n",
              "                for (p of [...t[col]].reverse())\n",
              "                    s += `<div class=e style='width:${p * 25}px'></div>`\n",
              "                cols[col].innerHTML = s + '<div class=s></div>'\n",
              "            }\n",
              "        }\n",
              "        var deplacer = async () => {\n",
              "            if (deplacements.length) {\n",
              "                let [a, b] = deplacements.shift()\n",
              "                t[b].push(t[a].pop())\n",
              "                dessiner()\n",
              "            }\n",
              "            else\n",
              "                clearInterval(id)\n",
              "        }\n",
              "        for (let i = 0; i < 3; i++)\n",
              "            cols.push(document.getElementById(`c${i}`))\n",
              "        dessiner()\n",
              "        id=setInterval(deplacer, 700)\n",
              "    </script>"
            ],
            "text/plain": [
              "<IPython.core.display.HTML object>"
            ]
          },
          "execution_count": 8,
          "metadata": {},
          "output_type": "execute_result"
        }
      ],
      "source": [
        "import IPython, random\n",
        "\n",
        "def animer_tour(init, deplacements):\n",
        "  t = [[], [], []]\n",
        "  for i in range(len(init), 0, -1):\n",
        "    t[init[i-1]].append(i)\n",
        "  return '''<style>\n",
        "      #h { border-collapse:collapse; border-spacing:0; }\n",
        "      #h th { text-align: center; }\n",
        "      #h td { vertical-align:bottom; padding:0; border:none; }\n",
        "      #h .s { border:0; width:370px; height:10px; background:#111; }\n",
        "      #h .e { margin:0 auto; border:1px solid #333; border-radius:10px; height:20px; background:#8cc; }\n",
        "      #h .v { height:'''+str((len(init)+1)*20)+'''px;}\n",
        "    </style><table id='h'>\n",
        "      <tr><td><div class='v'></div></td>\n",
        "      <td id='c0'></td><td id='c1'></td><td id='c2'></td></tr>\n",
        "      <tr><th></th><th>1</th><th>2</th><th>3</th></tr>\n",
        "    </table><script>\n",
        "        var id, cols = [], t = [[''' + '], ['.join([', '.join([str(n) for n in pile]) for pile in t]) + ''']]\n",
        "        var deplacements=[''' + ', '.join([f'[{a}, {b}]' for a, b in deplacements]) + ''']\n",
        "        var dessiner = () => {\n",
        "            for(col = 0; col < 3; col++) {\n",
        "                s = ''\n",
        "                for (p of [...t[col]].reverse())\n",
        "                    s += `<div class=e style='width:${p * 25}px'></div>`\n",
        "                cols[col].innerHTML = s + '<div class=s></div>'\n",
        "            }\n",
        "        }\n",
        "        var deplacer = async () => {\n",
        "            if (deplacements.length) {\n",
        "                let [a, b] = deplacements.shift()\n",
        "                t[b].push(t[a].pop())\n",
        "                dessiner()\n",
        "            }\n",
        "            else\n",
        "                clearInterval(id)\n",
        "        }\n",
        "        for (let i = 0; i < 3; i++)\n",
        "            cols.push(document.getElementById(`c${i}`))\n",
        "        dessiner()\n",
        "        id=setInterval(deplacer, 700)\n",
        "    </script>'''\n",
        "\n",
        "\n",
        "etages = [random.randrange(3) for i in range(5)]\n",
        "\n",
        "IPython.display.HTML(animer_tour(etages, rassembler(etages.copy())))"
      ]
    },
    {
      "cell_type": "markdown",
      "metadata": {},
      "source": [
        "## 3) Appréhender le pire défi Python"
      ]
    }
  ],
  "metadata": {
    "colab": {
      "collapsed_sections": [
        "-Vatf6FjoOI1",
        "M-dCDr0twu_p",
        "XWzopJmxKbu0",
        "J1DBepVJvbzQ",
        "MLND-5kFqqjI"
      ],
      "name": "Défis de code Python.ipynb",
      "provenance": []
    },
    "kernelspec": {
      "display_name": "Python 3.10.4 64-bit",
      "language": "python",
      "name": "python3"
    },
    "language_info": {
      "codemirror_mode": {
        "name": "ipython",
        "version": 3
      },
      "file_extension": ".py",
      "mimetype": "text/x-python",
      "name": "python",
      "nbconvert_exporter": "python",
      "pygments_lexer": "ipython3",
      "version": "3.10.4"
    },
    "vscode": {
      "interpreter": {
        "hash": "4f946df053fbf2b937619d3c5458e7af74262f9a954d8797ba0b27400bcafe06"
      }
    }
  },
  "nbformat": 4,
  "nbformat_minor": 0
}
