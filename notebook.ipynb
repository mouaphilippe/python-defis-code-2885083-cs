{
  "cells": [
    {
      "cell_type": "markdown",
      "metadata": {
        "id": "MbZyA61s9QD4"
      },
      "source": [
        "# Réfléchir et résoudre : \"Growth and Learning\""
      ]
    },
    {
      "cell_type": "markdown",
      "metadata": {
        "id": "U1wq0qXQ6LLj"
      },
      "source": [
        "# Combattre la routine : \"Fighting Each Other\""
      ]
    },
    {
      "cell_type": "markdown",
      "metadata": {
        "id": "Z4DaiAa46w8L"
      },
      "source": [
        "# Intégrer l'existant : \"Live Organ Transplants\""
      ]
    },
    {
      "cell_type": "markdown",
      "metadata": {},
      "source": [
        "## 1) Réparer la machine qui fait \\\"Bing\\\""
      ]
    },
    {
      "cell_type": "markdown",
      "metadata": {
        "id": "x6Kzs8xUxPT9"
      },
      "source": [
        "### Préambule"
      ]
    },
    {
      "cell_type": "code",
      "execution_count": 23,
      "metadata": {
        "id": "hWEY5W4JxOYM"
      },
      "outputs": [],
      "source": [
        "import IPython, math, random\n",
        "\n",
        "def tab(t):\n",
        "  return '['+','.join([str(v) for v in t])+']'\n",
        "\n",
        "def signal(n):\n",
        "  periode=2*math.pi/n\n",
        "  p=random.randrange(n)\n",
        "  a=random.randrange(10, 100)\n",
        "  return [round(math.cos(periode*(p+i))*a,2) for i in range(n)]\n",
        "\n",
        "def go_bing(initialiser):\n",
        "  n=random.randrange(3, 7)\n",
        "  signal1=signal(n)\n",
        "  signal2=signal(n)\n",
        "  ratio, phase = initialiser(signal1, signal2)\n",
        "  s='let s1='+tab(signal1)+',s2='+tab(signal2)+',ra='+str(ratio)+',p='+str(phase)+',n='+str(len(signal1))\n",
        "  display(IPython.display.HTML('''\n",
        "  <div style='padding:60px 57px 0;background-image:url(https://syllab.com/exo/2021/01/machine.jpg);width:315px;height:420px'>\n",
        "  <div id=bg style='background-position-y:-35px;width:320px;border-radius:5px'>\n",
        "  <div id=ms style='background-image:url(https://syllab.com/exo/2021/01/bing.png);width:320px;height:250px'></div>\n",
        "  </div></div><script>\n",
        "  var g=id=>document.getElementById(id),m=g('ms'),b=g('bg'),c=1,x=-340,\n",
        "      s=new Audio('https://syllab.com/exo/2021/01/bing.mp3'), \n",
        "      u=()=>window.requestAnimationFrame(a), _=()=>{'''+s+'''\n",
        "          for(let i=0;i<n;i++) c&=(s1[i]*ra-s2[(i+p)%n])<.05?1:0;\n",
        "          b.style.backgroundImage='url(https://syllab.com/exo/2021/01/bing-bg'+c+'.png)' \n",
        "      }, a=()=>{ m.style.backgroundPositionX=x+'px'; \n",
        "          x+=3; if(x>0) x=-340; else if(x==-256&&c) s.play(); u() }\n",
        "  _(); u(); \n",
        "  </script>\n",
        "  '''))"
      ]
    },
    {
      "cell_type": "markdown",
      "metadata": {
        "id": "i5A-3je4xRcM"
      },
      "source": [
        "### Défi"
      ]
    },
    {
      "cell_type": "code",
      "execution_count": 24,
      "metadata": {
        "id": "LH80Yi1SxUKk"
      },
      "outputs": [
        {
          "data": {
            "text/html": [
              "\n",
              "  <div style='padding:60px 57px 0;background-image:url(https://syllab.com/exo/2021/01/machine.jpg);width:315px;height:420px'>\n",
              "  <div id=bg style='background-position-y:-35px;width:320px;border-radius:5px'>\n",
              "  <div id=ms style='background-image:url(https://syllab.com/exo/2021/01/bing.png);width:320px;height:250px'></div>\n",
              "  </div></div><script>\n",
              "  var g=id=>document.getElementById(id),m=g('ms'),b=g('bg'),c=1,x=-340,\n",
              "      s=new Audio('https://syllab.com/exo/2021/01/bing.mp3'), \n",
              "      u=()=>window.requestAnimationFrame(a), _=()=>{let s1=[13.0,-13.0,-26.0,-13.0,13.0,26.0],s2=[-18.5,18.5,37.0,18.5,-18.5,-37.0],ra=1.4230769230769231,p=3,n=6\n",
              "          for(let i=0;i<n;i++) c&=(s1[i]*ra-s2[(i+p)%n])<.05?1:0;\n",
              "          b.style.backgroundImage='url(https://syllab.com/exo/2021/01/bing-bg'+c+'.png)' \n",
              "      }, a=()=>{ m.style.backgroundPositionX=x+'px'; \n",
              "          x+=3; if(x>0) x=-340; else if(x==-256&&c) s.play(); u() }\n",
              "  _(); u(); \n",
              "  </script>\n",
              "  "
            ],
            "text/plain": [
              "<IPython.core.display.HTML object>"
            ]
          },
          "metadata": {},
          "output_type": "display_data"
        }
      ],
      "source": [
        "def initialiser(signal1, signal2):\n",
        "  '''\n",
        "  >>> initialiser([17.0, -8.5, -8.5], [-28.5, -28.5, 57.0])\n",
        "  (3.3529411764705883, 2)\n",
        "  >>> initialiser([10.82, 35.0, 10.82, -28.32, -28.32], [23.79, 77.0, 23.79, -62.29, -62.29])\n",
        "  (2.2, 0)\n",
        "  >>> initialiser([17.5, 35.0, 17.5, -17.5, -35.0, -17.5], [49.5, -49.5, -99.0, -49.5, 49.5, 99.0])\n",
        "  (2.8285714285714287, 4)\n",
        "  >>> initialiser([47.0, -47.0, -94.0, -47.0, 47.0, 94.0], [39.0, 19.5, -19.5, -39.0, -19.5, 19.5])\n",
        "  (0.4148936170212766, 1)\n",
        "  '''\n",
        "  imax1 = imax2 = 0\n",
        "  n = len(signal1)\n",
        "  for i in range(1, n):\n",
        "    if signal1[i] > signal1[imax1]:\n",
        "      imax1 = i\n",
        "    if signal2[i] > signal2[imax2]:\n",
        "      imax2 = i\n",
        "  phase = (imax2 if imax2 >= imax1 else imax2+n) - imax1\n",
        "  return (signal2[imax2]/signal1[imax1], phase)\n",
        "\n",
        "import doctest\n",
        "doctest.run_docstring_examples(initialiser, globals())\n",
        "\n",
        "go_bing(initialiser)"
      ]
    },
    {
      "cell_type": "code",
      "execution_count": 22,
      "metadata": {},
      "outputs": [
        {
          "data": {
            "text/html": [
              "\n",
              "  <div style='padding:60px 57px 0;background-image:url(https://syllab.com/exo/2021/01/machine.jpg);width:315px;height:420px'>\n",
              "  <div id=bg style='background-position-y:-35px;width:320px;border-radius:5px'>\n",
              "  <div id=ms style='background-image:url(https://syllab.com/exo/2021/01/bing.png);width:320px;height:250px'></div>\n",
              "  </div></div><script>\n",
              "  var g=id=>document.getElementById(id),m=g('ms'),b=g('bg'),c=1,x=-340,\n",
              "      s=new Audio('https://syllab.com/exo/2021/01/bing.mp3'), \n",
              "      u=()=>window.requestAnimationFrame(a), _=()=>{let s1=[49.0,98.0,49.0,-49.0,-98.0,-49.0],s2=[16.5,33.0,16.5,-16.5,-33.0,-16.5],ra=0.336734693877551,p=0,n=6\n",
              "          for(let i=0;i<n;i++) c&=(s1[i]*ra-s2[(i+p)%n])<.05?1:0;\n",
              "          b.style.backgroundImage='url(https://syllab.com/exo/2021/01/bing-bg'+c+'.png)' \n",
              "      }, a=()=>{ m.style.backgroundPositionX=x+'px'; \n",
              "          x+=3; if(x>0) x=-340; else if(x==-256&&c) s.play(); u() }\n",
              "  _(); u(); \n",
              "  </script>\n",
              "  "
            ],
            "text/plain": [
              "<IPython.core.display.HTML object>"
            ]
          },
          "metadata": {},
          "output_type": "display_data"
        }
      ],
      "source": [
        "go_bing(initialiser)"
      ]
    },
    {
      "cell_type": "code",
      "execution_count": 11,
      "metadata": {},
      "outputs": [
        {
          "name": "stdout",
          "output_type": "stream",
          "text": [
            "**********************************************************************\n",
            "File \"__main__\", line 3, in NoName\n",
            "Failed example:\n",
            "    initialiser([17.0, -8.5, -8.5], [-28.5, -28.5, 57.0])\n",
            "Expected:\n",
            "    (3.3529411764705883, 2)\n",
            "Got:\n",
            "    (0, 0)\n",
            "**********************************************************************\n",
            "File \"__main__\", line 5, in NoName\n",
            "Failed example:\n",
            "    initialiser([10.82, 35.0, 10.82, -28.32, -28.32], [23.79, 77.0, 23.79, -62.29, -62.29])\n",
            "Expected:\n",
            "    (2.2, 0)\n",
            "Got:\n",
            "    (0, 0)\n",
            "**********************************************************************\n",
            "File \"__main__\", line 7, in NoName\n",
            "Failed example:\n",
            "    initialiser([17.5, 35.0, 17.5, -17.5, -35.0, -17.5], [49.5, -49.5, -99.0, -49.5, 49.5, 99.0])\n",
            "Expected:\n",
            "    (2.8285714285714287, 4)\n",
            "Got:\n",
            "    (0, 0)\n",
            "**********************************************************************\n",
            "File \"__main__\", line 9, in NoName\n",
            "Failed example:\n",
            "    initialiser([47.0, -47.0, -94.0, -47.0, 47.0, 94.0], [39.0, 19.5, -19.5, -39.0, -19.5, 19.5])\n",
            "Expected:\n",
            "    (0.4148936170212766, 1)\n",
            "Got:\n",
            "    (0, 0)\n"
          ]
        }
      ],
      "source": [
        "import doctest\n",
        "doctest.run_docstring_examples(initialiser, globals())"
      ]
    },
    {
      "cell_type": "markdown",
      "metadata": {
        "id": "NajPU3UNqjyn"
      },
      "source": [
        "## 2) Soigner ses arguments"
      ]
    },
    {
      "cell_type": "markdown",
      "metadata": {
        "id": "MLND-5kFqqjI"
      },
      "source": [
        "## 3) Cerner la souris et son problème"
      ]
    },
    {
      "cell_type": "markdown",
      "metadata": {
        "id": "ZXpDQr_g7JT7"
      },
      "source": [
        "# Éprouver votre endurance : \"The Autumn Years\""
      ]
    },
    {
      "cell_type": "markdown",
      "metadata": {
        "id": "VKJUGrd3BGv_"
      },
      "source": [
        "## 1) Dépouiller les votes"
      ]
    },
    {
      "cell_type": "markdown",
      "metadata": {
        "id": "SA0rIZ70Hvoe"
      },
      "source": [
        "## 2) Prendre le dessus"
      ]
    },
    {
      "cell_type": "markdown",
      "metadata": {},
      "source": [
        "## 3) Appréhender le pire défi Python"
      ]
    }
  ],
  "metadata": {
    "colab": {
      "collapsed_sections": [
        "-Vatf6FjoOI1",
        "M-dCDr0twu_p",
        "XWzopJmxKbu0",
        "J1DBepVJvbzQ",
        "MLND-5kFqqjI"
      ],
      "name": "Défis de code Python.ipynb",
      "provenance": []
    },
    "kernelspec": {
      "display_name": "Python 3.10.4 64-bit",
      "language": "python",
      "name": "python3"
    },
    "language_info": {
      "codemirror_mode": {
        "name": "ipython",
        "version": 3
      },
      "file_extension": ".py",
      "mimetype": "text/x-python",
      "name": "python",
      "nbconvert_exporter": "python",
      "pygments_lexer": "ipython3",
      "version": "3.10.8"
    },
    "vscode": {
      "interpreter": {
        "hash": "4f946df053fbf2b937619d3c5458e7af74262f9a954d8797ba0b27400bcafe06"
      }
    }
  },
  "nbformat": 4,
  "nbformat_minor": 0
}
