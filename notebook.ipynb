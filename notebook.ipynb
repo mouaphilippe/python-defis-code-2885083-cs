{
  "cells": [
    {
      "cell_type": "markdown",
      "metadata": {
        "id": "MbZyA61s9QD4"
      },
      "source": [
        "# Réfléchir et résoudre : \"Growth and Learning\""
      ]
    },
    {
      "cell_type": "markdown",
      "metadata": {
        "id": "ZO0ACtV76HK1"
      },
      "source": [
        "## 1) Partir en croisade"
      ]
    },
    {
      "cell_type": "markdown",
      "metadata": {
        "id": "oiOZvSkkthe3"
      },
      "source": [
        "### Défi"
      ]
    },
    {
      "cell_type": "code",
      "execution_count": 2,
      "metadata": {
        "colab": {
          "base_uri": "https://localhost:8080/"
        },
        "id": "wKH2Dmua9Jfj",
        "outputId": "13aec38d-29ba-43ba-eb57-2a0b3d74dc50"
      },
      "outputs": [
        {
          "name": "stdout",
          "output_type": "stream",
          "text": [
            "???\n",
            "DANSLECHATEAUDESFRANCAIS\n"
          ]
        }
      ],
      "source": [
        "message = \"PGMQBZWBZKKOJWPMMGBXWGGDBANXSJMXKZLJEPGKCHOAQOGOZJQVZMTOJWJVGVBXVEWOQBWVPJKVGZMQXAUKWDZZKESXPQBQPPPXFOMRAVMQNCAIBSXOJVKW\"\n",
        "\n",
        "def lapin_de_troie(msg):\n",
        "  return \"???\"\n",
        "\n",
        "def lapin_tueur(msg):\n",
        "  msg = msg.replace(msg[0],'')\n",
        "  msg = msg.replace(msg[-1],'')\n",
        "  return msg\n",
        "\n",
        "def envoyer_le_lapin(lapin, msg):\n",
        "  while len(msg) > 24:\n",
        "    msg = lapin( msg )\n",
        "  return msg\n",
        "\n",
        "print(envoyer_le_lapin(lapin_de_troie, message))\n",
        "print(envoyer_le_lapin(lapin_tueur, message))"
      ]
    },
    {
      "cell_type": "markdown",
      "metadata": {
        "id": "Jm9lOLE1_-jw"
      },
      "source": [
        "## 2) Se dissiper avec le brouillard anglais"
      ]
    },
    {
      "cell_type": "markdown",
      "metadata": {
        "id": "22q1RQeJAAP4"
      },
      "source": [
        "## 3) Affiner sa recherche et son fromage"
      ]
    },
    {
      "cell_type": "markdown",
      "metadata": {
        "id": "01B_HwaAACiA"
      },
      "source": [
        "## 4) Imiter le perroquet"
      ]
    },
    {
      "cell_type": "markdown",
      "metadata": {
        "id": "U1wq0qXQ6LLj"
      },
      "source": [
        "# Combattre la routine : \"Fighting Each Other\""
      ]
    },
    {
      "cell_type": "markdown",
      "metadata": {
        "id": "EYHOS1yv6eyT"
      },
      "source": [
        "## 1) Nettoyer le \"for k\""
      ]
    },
    {
      "cell_type": "markdown",
      "metadata": {
        "id": "_FwKM6Df6hPy"
      },
      "source": [
        "## 2) Varier ses variables"
      ]
    },
    {
      "cell_type": "markdown",
      "metadata": {
        "id": "6xwMHZY-6smL"
      },
      "source": [
        "## 3) Adopter une drôle de démarche"
      ]
    },
    {
      "cell_type": "markdown",
      "metadata": {
        "id": "Z4DaiAa46w8L"
      },
      "source": [
        "# Intégrer l'existant : \"Live Organ Transplants\""
      ]
    },
    {
      "cell_type": "markdown",
      "metadata": {},
      "source": [
        "## 1) Réparer la machine qui fait \\\"Bing\\\""
      ]
    },
    {
      "cell_type": "markdown",
      "metadata": {
        "id": "NajPU3UNqjyn"
      },
      "source": [
        "## 2) Soigner ses arguments"
      ]
    },
    {
      "cell_type": "markdown",
      "metadata": {
        "id": "MLND-5kFqqjI"
      },
      "source": [
        "## 3) Cerner la souris et son problème"
      ]
    },
    {
      "cell_type": "markdown",
      "metadata": {
        "id": "ZXpDQr_g7JT7"
      },
      "source": [
        "# Éprouver votre endurance : \"The Autumn Years\""
      ]
    },
    {
      "cell_type": "markdown",
      "metadata": {
        "id": "VKJUGrd3BGv_"
      },
      "source": [
        "## 1) Dépouiller les votes"
      ]
    },
    {
      "cell_type": "markdown",
      "metadata": {
        "id": "SA0rIZ70Hvoe"
      },
      "source": [
        "## 2) Prendre le dessus"
      ]
    },
    {
      "cell_type": "markdown",
      "metadata": {},
      "source": [
        "## 3) Appréhender le pire défi Python"
      ]
    }
  ],
  "metadata": {
    "colab": {
      "collapsed_sections": [
        "-Vatf6FjoOI1",
        "M-dCDr0twu_p",
        "XWzopJmxKbu0",
        "J1DBepVJvbzQ",
        "MLND-5kFqqjI"
      ],
      "name": "Défis de code Python.ipynb",
      "provenance": []
    },
    "kernelspec": {
      "display_name": "Python 3",
      "name": "python3"
    }
  },
  "nbformat": 4,
  "nbformat_minor": 0
}
