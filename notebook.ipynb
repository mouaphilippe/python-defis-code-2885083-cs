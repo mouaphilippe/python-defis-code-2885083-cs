{
  "cells": [
    {
      "cell_type": "markdown",
      "metadata": {
        "id": "MbZyA61s9QD4"
      },
      "source": [
        "# Réfléchir et résoudre : \"Growth and Learning\""
      ]
    },
    {
      "cell_type": "markdown",
      "metadata": {
        "id": "U1wq0qXQ6LLj"
      },
      "source": [
        "# Combattre la routine : \"Fighting Each Other\""
      ]
    },
    {
      "cell_type": "markdown",
      "metadata": {
        "id": "Z4DaiAa46w8L"
      },
      "source": [
        "# Intégrer l'existant : \"Live Organ Transplants\""
      ]
    },
    {
      "cell_type": "markdown",
      "metadata": {
        "id": "ZXpDQr_g7JT7"
      },
      "source": [
        "# Éprouver votre endurance : \"The Autumn Years\""
      ]
    },
    {
      "cell_type": "markdown",
      "metadata": {
        "id": "VKJUGrd3BGv_"
      },
      "source": [
        "## 1) Dépouiller les votes"
      ]
    },
    {
      "cell_type": "markdown",
      "metadata": {
        "id": "8-zJFN0PxnKs"
      },
      "source": [
        "### Défi"
      ]
    },
    {
      "cell_type": "code",
      "execution_count": 13,
      "metadata": {
        "colab": {
          "base_uri": "https://localhost:8080/"
        },
        "id": "zNZyK4OsxpEN",
        "outputId": "dbddf858-60e4-405a-ff0c-205fc55ff583"
      },
      "outputs": [],
      "source": [
        "def tri_votes(votes):\n",
        "  '''\n",
        "  >>> tri_votes([])\n",
        "  []\n",
        "  >>> tri_votes([1, 0])\n",
        "  [0, 1]\n",
        "  >>> tri_votes([2, 1])\n",
        "  [1, 2]\n",
        "  >>> tri_votes([0, 0, 0])\n",
        "  [0, 0, 0]\n",
        "  >>> tri_votes([1, 1, 1])\n",
        "  [1, 1, 1]\n",
        "  >>> tri_votes([2, 2, 2])\n",
        "  [2, 2, 2]\n",
        "  >>> tri_votes([1, 1, 0])\n",
        "  [0, 1, 1]\n",
        "  >>> tri_votes([2, 1, 0, 1, 0, 1, 2, 0, 1, 1, 0, 2, 2, 1, 0, 1, 1, 0])\n",
        "  [0, 0, 0, 0, 0, 0, 1, 1, 1, 1, 1, 1, 1, 1, 2, 2, 2, 2]\n",
        "  '''  \n",
        "  p0 = 0\n",
        "  p1 = 0\n",
        "  p2 = len(votes)-1\n",
        "\n",
        "  while p1 <= p2 and p1 < len(votes)-1:\n",
        "    if votes[p1]==2:\n",
        "      votes[p1] = votes[p2]\n",
        "      votes[p2] = 2\n",
        "      p2 -=1\n",
        "    \n",
        "    if votes[p1]==1:\n",
        "      p1 +=1\n",
        "\n",
        "    if votes[p1]==0:\n",
        "      votes[p1] = votes[p0]\n",
        "      votes[p0] = 0\n",
        "      p0 += 1\n",
        "      p1 += 1\n",
        "\n",
        "  return votes\n",
        "\n",
        "import doctest\n",
        "doctest.run_docstring_examples(tri_votes, globals())"
      ]
    },
    {
      "cell_type": "markdown",
      "metadata": {
        "id": "SA0rIZ70Hvoe"
      },
      "source": [
        "## 2) Prendre le dessus"
      ]
    },
    {
      "cell_type": "markdown",
      "metadata": {},
      "source": [
        "## 3) Appréhender le pire défi Python"
      ]
    }
  ],
  "metadata": {
    "colab": {
      "collapsed_sections": [
        "-Vatf6FjoOI1",
        "M-dCDr0twu_p",
        "XWzopJmxKbu0",
        "J1DBepVJvbzQ",
        "MLND-5kFqqjI"
      ],
      "name": "Défis de code Python.ipynb",
      "provenance": []
    },
    "kernelspec": {
      "display_name": "Python 3.10.4 64-bit",
      "language": "python",
      "name": "python3"
    },
    "language_info": {
      "codemirror_mode": {
        "name": "ipython",
        "version": 3
      },
      "file_extension": ".py",
      "mimetype": "text/x-python",
      "name": "python",
      "nbconvert_exporter": "python",
      "pygments_lexer": "ipython3",
      "version": "3.10.8"
    },
    "vscode": {
      "interpreter": {
        "hash": "4f946df053fbf2b937619d3c5458e7af74262f9a954d8797ba0b27400bcafe06"
      }
    }
  },
  "nbformat": 4,
  "nbformat_minor": 0
}
