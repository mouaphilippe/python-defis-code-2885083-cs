{
  "cells": [
    {
      "cell_type": "markdown",
      "metadata": {
        "id": "MbZyA61s9QD4"
      },
      "source": [
        "# Réfléchir et résoudre : \"Growth and Learning\""
      ]
    },
    {
      "cell_type": "markdown",
      "metadata": {
        "id": "U1wq0qXQ6LLj"
      },
      "source": [
        "# Combattre la routine : \"Fighting Each Other\""
      ]
    },
    {
      "cell_type": "markdown",
      "metadata": {
        "id": "Z4DaiAa46w8L"
      },
      "source": [
        "# Intégrer l'existant : \"Live Organ Transplants\""
      ]
    },
    {
      "cell_type": "markdown",
      "metadata": {},
      "source": [
        "## 1) Réparer la machine qui fait \\\"Bing\\\""
      ]
    },
    {
      "cell_type": "markdown",
      "metadata": {
        "id": "NajPU3UNqjyn"
      },
      "source": [
        "## 2) Soigner ses arguments"
      ]
    },
    {
      "cell_type": "markdown",
      "metadata": {
        "id": "MLND-5kFqqjI"
      },
      "source": [
        "## 3) Cerner la souris et son problème"
      ]
    },
    {
      "cell_type": "markdown",
      "metadata": {
        "id": "7jNtAmH-7BTn"
      },
      "source": [
        "### Préambule"
      ]
    },
    {
      "cell_type": "code",
      "execution_count": 1,
      "metadata": {
        "id": "2sW8n9rShNwK"
      },
      "outputs": [],
      "source": [
        "import math\n",
        "\n",
        "LARGEUR = 854\n",
        "HAUTEUR = 352\n",
        "\n",
        "def htmljs(test):\n",
        "  html = '''\n",
        "    <style>\n",
        "    .pbsa { float: left; margin: 2px }\n",
        "    .pbs  { position:relative; width: 500px; height: 200px; overflow:hidden; padding:0; margin:0; }\n",
        "    .pbsi { background-image:url('https://syllab.com/exo/2021/01/grilles.png'); background-size:contain; background-repeat: no-repeat; width:834px; height:352px; z-index:0; }\n",
        "    .pbsc { background-image:url('https://syllab.com/exo/2021/01/mouse.png'); position:absolute; z-index:1; width:12px; height:19px }\n",
        "    </style>    \n",
        "  '''\n",
        "  for data in test:\n",
        "    titre, x, y, x0, y0, z = data\n",
        "    html += f'''\n",
        "      <div class=\"pbsa\">\n",
        "        <h2>{titre} : { clic(x, y, x0, y0, z) }</h2>\n",
        "        <div class=\"pbs\">\n",
        "          <div class=\"pbsc\" style=\"left:{x}px;top:{y}px\"></div>\n",
        "          <div class=\"pbsi\" style=\"margin:{y0}px 0 0 {x0}px; width:{math.ceil(z*LARGEUR)}px;height:{math.ceil(z*HAUTEUR)}px\"></div>\n",
        "        </div>\n",
        "      </div>\\n'''\n",
        "  return html\n"
      ]
    },
    {
      "cell_type": "markdown",
      "metadata": {
        "id": "FAYymrVZxh70"
      },
      "source": [
        "### Défi"
      ]
    },
    {
      "cell_type": "code",
      "execution_count": 7,
      "metadata": {
        "id": "Yyj2ad3dqqKD"
      },
      "outputs": [
        {
          "data": {
            "text/html": [
              "\n",
              "    <style>\n",
              "    .pbsa { float: left; margin: 2px }\n",
              "    .pbs  { position:relative; width: 500px; height: 200px; overflow:hidden; padding:0; margin:0; }\n",
              "    .pbsi { background-image:url('https://syllab.com/exo/2021/01/grilles.png'); background-size:contain; background-repeat: no-repeat; width:834px; height:352px; z-index:0; }\n",
              "    .pbsc { background-image:url('https://syllab.com/exo/2021/01/mouse.png'); position:absolute; z-index:1; width:12px; height:19px }\n",
              "    </style>    \n",
              "  \n",
              "      <div class=\"pbsa\">\n",
              "        <h2>Clic simple : F4</h2>\n",
              "        <div class=\"pbs\">\n",
              "          <div class=\"pbsc\" style=\"left:181px;top:88px\"></div>\n",
              "          <div class=\"pbsi\" style=\"margin:0px 0 0 0px; width:854px;height:352px\"></div>\n",
              "        </div>\n",
              "      </div>\n",
              "\n",
              "      <div class=\"pbsa\">\n",
              "        <h2>Clic après défilement : Z14</h2>\n",
              "        <div class=\"pbs\">\n",
              "          <div class=\"pbsc\" style=\"left:487px;top:182px\"></div>\n",
              "          <div class=\"pbsi\" style=\"margin:-156px 0 0 -335px; width:854px;height:352px\"></div>\n",
              "        </div>\n",
              "      </div>\n",
              "\n",
              "      <div class=\"pbsa\">\n",
              "        <h2>Clic après défilement : P10</h2>\n",
              "        <div class=\"pbs\">\n",
              "          <div class=\"pbsc\" style=\"left:160px;top:80px\"></div>\n",
              "          <div class=\"pbsi\" style=\"margin:-156px 0 0 -335px; width:854px;height:352px\"></div>\n",
              "        </div>\n",
              "      </div>\n",
              "\n",
              "      <div class=\"pbsa\">\n",
              "        <h2>Clic après zoom avant : Z14</h2>\n",
              "        <div class=\"pbs\">\n",
              "          <div class=\"pbsc\" style=\"left:484px;top:172px\"></div>\n",
              "          <div class=\"pbsi\" style=\"margin:-278px 0 0 -618px; width:1145px;height:472px\"></div>\n",
              "        </div>\n",
              "      </div>\n",
              "\n",
              "      <div class=\"pbsa\">\n",
              "        <h2>Clic après zoom avant : K5</h2>\n",
              "        <div class=\"pbs\">\n",
              "          <div class=\"pbsc\" style=\"left:199px;top:96px\"></div>\n",
              "          <div class=\"pbsi\" style=\"margin:-60px 0 0 -251px; width:1145px;height:472px\"></div>\n",
              "        </div>\n",
              "      </div>\n",
              "\n",
              "      <div class=\"pbsa\">\n",
              "        <h2>Clic après zoom arrière : P11</h2>\n",
              "        <div class=\"pbs\">\n",
              "          <div class=\"pbsc\" style=\"left:252px;top:135px\"></div>\n",
              "          <div class=\"pbsi\" style=\"margin:-54px 0 0 -105px; width:615px;height:254px\"></div>\n",
              "        </div>\n",
              "      </div>\n"
            ],
            "text/plain": [
              "<IPython.core.display.HTML object>"
            ]
          },
          "execution_count": 7,
          "metadata": {},
          "output_type": "execute_result"
        }
      ],
      "source": [
        "import IPython\n",
        "import math\n",
        "\n",
        "LARGEUR = 854\n",
        "HAUTEUR = 352\n",
        "COLONNES = 26\n",
        "LIGNES = 14\n",
        "\n",
        "def clic(x, y, x0, y0, zoom):\n",
        "  x = x - x0\n",
        "  y = y - y0\n",
        "  \n",
        "  X = math.floor(x*COLONNES/(LARGEUR*zoom))\n",
        "  Y = math.floor(y*LIGNES/(HAUTEUR*zoom))+1\n",
        "  return chr(ord('A') + X) + str(Y)\n",
        "\n",
        "# Vérification de la fonction clic\n",
        "IPython.display.HTML(htmljs([\n",
        "    (\"Clic simple\"            , 181,  88,    0,    0,   1),  # F4\n",
        "    (\"Clic après défilement\"  , 487, 182, -335, -156,   1),  # Z14\n",
        "    (\"Clic après défilement\"  , 160,  80, -335, -156,   1),  # P10\n",
        "    (\"Clic après zoom avant\"  , 484, 172, -618, -278, 1.34), # Z14\n",
        "    (\"Clic après zoom avant\"  , 199,  96, -251,  -60, 1.34), # K5\n",
        "    (\"Clic après zoom arrière\", 252, 135, -105,  -54, 0.72)  # P11\n",
        "]))"
      ]
    },
    {
      "cell_type": "markdown",
      "metadata": {
        "id": "ZXpDQr_g7JT7"
      },
      "source": [
        "# Éprouver votre endurance : \"The Autumn Years\""
      ]
    },
    {
      "cell_type": "markdown",
      "metadata": {
        "id": "VKJUGrd3BGv_"
      },
      "source": [
        "## 1) Dépouiller les votes"
      ]
    },
    {
      "cell_type": "markdown",
      "metadata": {
        "id": "SA0rIZ70Hvoe"
      },
      "source": [
        "## 2) Prendre le dessus"
      ]
    },
    {
      "cell_type": "markdown",
      "metadata": {},
      "source": [
        "## 3) Appréhender le pire défi Python"
      ]
    }
  ],
  "metadata": {
    "colab": {
      "collapsed_sections": [
        "-Vatf6FjoOI1",
        "M-dCDr0twu_p",
        "XWzopJmxKbu0",
        "J1DBepVJvbzQ",
        "MLND-5kFqqjI"
      ],
      "name": "Défis de code Python.ipynb",
      "provenance": []
    },
    "kernelspec": {
      "display_name": "Python 3.10.4 64-bit",
      "language": "python",
      "name": "python3"
    },
    "language_info": {
      "codemirror_mode": {
        "name": "ipython",
        "version": 3
      },
      "file_extension": ".py",
      "mimetype": "text/x-python",
      "name": "python",
      "nbconvert_exporter": "python",
      "pygments_lexer": "ipython3",
      "version": "3.10.8"
    },
    "vscode": {
      "interpreter": {
        "hash": "4f946df053fbf2b937619d3c5458e7af74262f9a954d8797ba0b27400bcafe06"
      }
    }
  },
  "nbformat": 4,
  "nbformat_minor": 0
}
