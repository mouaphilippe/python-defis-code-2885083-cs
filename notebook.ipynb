{
  "cells": [
    {
      "cell_type": "markdown",
      "metadata": {
        "id": "MbZyA61s9QD4"
      },
      "source": [
        "# Réfléchir et résoudre : \"Growth and Learning\""
      ]
    },
    {
      "cell_type": "markdown",
      "metadata": {
        "id": "U1wq0qXQ6LLj"
      },
      "source": [
        "# Combattre la routine : \"Fighting Each Other\""
      ]
    },
    {
      "cell_type": "markdown",
      "metadata": {
        "id": "EYHOS1yv6eyT"
      },
      "source": [
        "## 1) Nettoyer le \"for k\""
      ]
    },
    {
      "cell_type": "markdown",
      "metadata": {
        "id": "_FwKM6Df6hPy"
      },
      "source": [
        "## 2) Varier ses variables"
      ]
    },
    {
      "cell_type": "markdown",
      "metadata": {
        "id": "6xwMHZY-6smL"
      },
      "source": [
        "## 3) Adopter une drôle de démarche"
      ]
    },
    {
      "cell_type": "markdown",
      "metadata": {
        "id": "Pl2ZMdPtw6g9"
      },
      "source": [
        "### Défi"
      ]
    },
    {
      "cell_type": "code",
      "execution_count": 31,
      "metadata": {
        "id": "DVOcea1WwhY2"
      },
      "outputs": [
        {
          "name": "stdout",
          "output_type": "stream",
          "text": [
            "**********************************************************************\n",
            "File \"__main__\", line 5, in NoName\n",
            "Failed example:\n",
            "    cavalier('x4')\n",
            "Expected:\n",
            "    False\n",
            "Got:\n",
            "    [[False, False, False, False, False, False, False, False], [False, False, False, False, False, False, False, False], [False, False, False, False, False, False, False, False], [False, False, False, False, False, False, False, False], [False, False, False, False, False, False, False, False], [False, False, False, False, False, False, False, False], [False, False, False, False, False, False, False, False], [False, False, False, False, False, False, False, False]]\n",
            "    ['x4']\n",
            "    False\n",
            "**********************************************************************\n",
            "File \"__main__\", line 7, in NoName\n",
            "Failed example:\n",
            "    cavalier('a9')\n",
            "Expected:\n",
            "    False\n",
            "Got:\n",
            "    [[False, False, False, False, False, False, False, False], [False, False, False, False, False, False, False, False], [False, False, False, False, False, False, False, False], [False, False, False, False, False, False, False, False], [False, False, False, False, False, False, False, False], [False, False, False, False, False, False, False, False], [False, False, False, False, False, False, False, False], [False, False, False, False, False, False, False, False]]\n",
            "    ['a9']\n",
            "    False\n",
            "**********************************************************************\n",
            "File \"__main__\", line 9, in NoName\n",
            "Failed example:\n",
            "    cavalier('d4')\n",
            "Expected:\n",
            "    True\n",
            "Got:\n",
            "    [[False, False, False, False, False, False, False, False], [False, False, False, False, False, False, False, False], [False, False, False, False, False, False, False, False], [False, False, False, False, False, False, False, False], [False, False, False, False, False, False, False, False], [False, False, False, False, False, False, False, False], [False, False, False, False, False, False, False, False], [False, False, False, False, False, False, False, False]]\n",
            "    ['d4']\n",
            "    True\n",
            "**********************************************************************\n",
            "File \"__main__\", line 11, in NoName\n",
            "Failed example:\n",
            "    cavalier('d4 d5')\n",
            "Expected:\n",
            "    False\n",
            "Got:\n",
            "    [[False, False, False, False, False, False, False, False], [False, False, False, False, False, False, False, False], [False, False, False, False, False, False, False, False], [False, False, False, False, False, False, False, False], [False, False, False, False, False, False, False, False], [False, False, False, False, False, False, False, False], [False, False, False, False, False, False, False, False], [False, False, False, False, False, False, False, False]]\n",
            "    ['d4', 'd5']\n",
            "    False\n",
            "**********************************************************************\n",
            "File \"__main__\", line 13, in NoName\n",
            "Failed example:\n",
            "    cavalier('d4 c6')\n",
            "Expected:\n",
            "    True\n",
            "Got:\n",
            "    [[False, False, False, False, False, False, False, False], [False, False, False, False, False, False, False, False], [False, False, False, False, False, False, False, False], [False, False, False, False, False, False, False, False], [False, False, False, False, False, False, False, False], [False, False, False, False, False, False, False, False], [False, False, False, False, False, False, False, False], [False, False, False, False, False, False, False, False]]\n",
            "    ['d4', 'c6']\n",
            "    True\n",
            "**********************************************************************\n",
            "File \"__main__\", line 15, in NoName\n",
            "Failed example:\n",
            "    cavalier('d4 c6 d4')\n",
            "Expected:\n",
            "    False\n",
            "Got:\n",
            "    [[False, False, False, False, False, False, False, False], [False, False, False, False, False, False, False, False], [False, False, False, False, False, False, False, False], [False, False, False, False, False, False, False, False], [False, False, False, False, False, False, False, False], [False, False, False, False, False, False, False, False], [False, False, False, False, False, False, False, False], [False, False, False, False, False, False, False, False]]\n",
            "    ['d4', 'c6', 'd4']\n",
            "    False\n",
            "**********************************************************************\n",
            "File \"__main__\", line 17, in NoName\n",
            "Failed example:\n",
            "    cavalier('d4 c6 b4 d3 e5')\n",
            "Expected:\n",
            "    True\n",
            "Got:\n",
            "    [[False, False, False, False, False, False, False, False], [False, False, False, False, False, False, False, False], [False, False, False, False, False, False, False, False], [False, False, False, False, False, False, False, False], [False, False, False, False, False, False, False, False], [False, False, False, False, False, False, False, False], [False, False, False, False, False, False, False, False], [False, False, False, False, False, False, False, False]]\n",
            "    ['d4', 'c6', 'b4', 'd3', 'e5']\n",
            "    True\n"
          ]
        }
      ],
      "source": [
        "TAILLE = 8\n",
        "\n",
        "def cavalier(trajet):\n",
        "  '''\n",
        "  >>> cavalier('x4')\n",
        "  False\n",
        "  >>> cavalier('a9')\n",
        "  False\n",
        "  >>> cavalier('d4')\n",
        "  True\n",
        "  >>> cavalier('d4 d5')\n",
        "  False\n",
        "  >>> cavalier('d4 c6')\n",
        "  True\n",
        "  >>> cavalier('d4 c6 d4')\n",
        "  False\n",
        "  >>> cavalier('d4 c6 b4 d3 e5')\n",
        "  True\n",
        "  '''\n",
        "  echec = [([False] * TAILLE).copy() for i in range(TAILLE)]\n",
        "  cases = trajet.split(' ')\n",
        "  prec = extraire(echec, cases)\n",
        "  while prec and cases:\n",
        "    prec = extraire(echec, cases, prec)\n",
        "  return prec!=()\n",
        "\n",
        "def position_valide(pos):\n",
        "  return 'a' <= pos[0] <= 'h' and '1' <= pos[1] <= '8'\n",
        "\n",
        "def coordonnees(pos):\n",
        "  return (ord(pos[0])-ord('a'), ord(pos[1])-ord('1'))\n",
        "\n",
        "def extraire(echec, cases, prec=()):\n",
        "  case = cases.pop(0)\n",
        "  if not position_valide(case):\n",
        "    return ()\n",
        "  (x, y) = coordonnees(case)\n",
        "  if echec[x][y] or prec and abs((prec[0]-x)*(prec[1]-y))!=2:\n",
        "    return ()\n",
        "  echec[x][y] = True\n",
        "  return (x, y)\n",
        "\n",
        "import doctest\n",
        "doctest.run_docstring_examples(cavalier, globals())"
      ]
    },
    {
      "cell_type": "markdown",
      "metadata": {
        "id": "Z4DaiAa46w8L"
      },
      "source": [
        "# Intégrer l'existant : \"Live Organ Transplants\""
      ]
    },
    {
      "cell_type": "markdown",
      "metadata": {},
      "source": [
        "## 1) Réparer la machine qui fait \\\"Bing\\\""
      ]
    },
    {
      "cell_type": "markdown",
      "metadata": {
        "id": "NajPU3UNqjyn"
      },
      "source": [
        "## 2) Soigner ses arguments"
      ]
    },
    {
      "cell_type": "markdown",
      "metadata": {
        "id": "MLND-5kFqqjI"
      },
      "source": [
        "## 3) Cerner la souris et son problème"
      ]
    },
    {
      "cell_type": "markdown",
      "metadata": {
        "id": "ZXpDQr_g7JT7"
      },
      "source": [
        "# Éprouver votre endurance : \"The Autumn Years\""
      ]
    },
    {
      "cell_type": "markdown",
      "metadata": {
        "id": "VKJUGrd3BGv_"
      },
      "source": [
        "## 1) Dépouiller les votes"
      ]
    },
    {
      "cell_type": "markdown",
      "metadata": {
        "id": "SA0rIZ70Hvoe"
      },
      "source": [
        "## 2) Prendre le dessus"
      ]
    },
    {
      "cell_type": "markdown",
      "metadata": {},
      "source": [
        "## 3) Appréhender le pire défi Python"
      ]
    }
  ],
  "metadata": {
    "colab": {
      "collapsed_sections": [
        "-Vatf6FjoOI1",
        "M-dCDr0twu_p",
        "XWzopJmxKbu0",
        "J1DBepVJvbzQ",
        "MLND-5kFqqjI"
      ],
      "name": "Défis de code Python.ipynb",
      "provenance": []
    },
    "kernelspec": {
      "display_name": "Python 3.10.4 64-bit",
      "language": "python",
      "name": "python3"
    },
    "language_info": {
      "name": "python",
      "version": "3.10.8"
    },
    "vscode": {
      "interpreter": {
        "hash": "4f946df053fbf2b937619d3c5458e7af74262f9a954d8797ba0b27400bcafe06"
      }
    }
  },
  "nbformat": 4,
  "nbformat_minor": 0
}
