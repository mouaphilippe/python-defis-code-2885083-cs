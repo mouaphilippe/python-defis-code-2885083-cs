{
  "cells": [
    {
      "cell_type": "markdown",
      "metadata": {
        "id": "MbZyA61s9QD4"
      },
      "source": [
        "# Réfléchir et résoudre : \"Growth and Learning\""
      ]
    },
    {
      "cell_type": "markdown",
      "metadata": {
        "id": "ZO0ACtV76HK1"
      },
      "source": [
        "## 1) Partir en croisade"
      ]
    },
    {
      "cell_type": "markdown",
      "metadata": {
        "id": "Jm9lOLE1_-jw"
      },
      "source": [
        "## 2) Se dissiper avec le brouillard anglais"
      ]
    },
    {
      "cell_type": "markdown",
      "metadata": {
        "id": "22q1RQeJAAP4"
      },
      "source": [
        "## 3) Affiner sa recherche et son fromage"
      ]
    },
    {
      "cell_type": "markdown",
      "metadata": {
        "id": "-Vatf6FjoOI1"
      },
      "source": [
        "### Défi"
      ]
    },
    {
      "cell_type": "code",
      "execution_count": null,
      "metadata": {
        "id": "_T5Y5rI-AFJn"
      },
      "outputs": [],
      "source": [
        "fromages = {\n",
        "  \"France\": {\n",
        "    \"Brebis\": {\n",
        "      \"Fromage frais\": {\n",
        "        \"Brocciu\": 0\n",
        "      },\n",
        "      \"Pâte persillée\": { \n",
        "        \"Roquefort\": 0\n",
        "      },\n",
        "      \"Pâte pressée\": {\n",
        "        \"Non cuite\": { \n",
        "          \"Ossau-iraty\": 0\n",
        "        }\n",
        "      }\n",
        "    },\n",
        "  \t\"Chèvre\": {\n",
        "      \"Fromage frais\": {\n",
        "        \"Brocciu\": 0,\n",
        "        \"Brousse du Rove\": 0\n",
        "      },\n",
        "      \"Pâte molle\": {\n",
        "        \"Croûte fleurie\": {\n",
        "          \"Banon\": 0, \n",
        "          \"Rigotte de Condrieu\": 0\n",
        "        },\n",
        "        \"Croûte naturelle\": {\n",
        "          \"Chabichou du Poitou\": 0,\n",
        "          \"Charolais\": 0,\n",
        "          \"Crottin de Chavignol\": 0,\n",
        "          \"Mâconnais\": 0,\n",
        "          \"Pélardon\": 0,\n",
        "          \"Picodon\": 0,\n",
        "          \"Pouligny-saint-pierre\": 0,\n",
        "          \"Rocamadour\": 0,\n",
        "          \"Sainte-maure-de-touraine\": 0,\n",
        "          \"Selles-sur-cher\": 0,\n",
        "          \"Valençay\": 0\n",
        "        }\n",
        "      },\n",
        "      \"Pâte pressée\": {\n",
        "        \"Non cuite\": { \n",
        "          \"Chevrotin\": 0 \n",
        "        }\n",
        "      }\n",
        "    },\n",
        "    \"Vache\": {\n",
        "      \"Pâte molle\": { \n",
        "        \"Croûte fleurie\": {\t\n",
        "          \"Brie de Meaux\": 0,\n",
        "          \"Brie de Melun\": 0,\n",
        "          \"Camembert de Normandie\": 0,\n",
        "          \"Chaource\": 0,\n",
        "          \"Neufchâtel\": 0\n",
        "        },\n",
        "        \"Croûte lavée\": {\n",
        "          \"Époisses\": 0,\n",
        "          \"Langres\": 0,\n",
        "          \"Livarot\": 0,\n",
        "          \"Maroilles ou marolles\": 0,\n",
        "          \"Mont d'Or\": 0,\n",
        "          \"Munster\": 0,\n",
        "          \"Pont-l'évêque\": 0\n",
        "        }\n",
        "      },\n",
        "      \"Pâte persillée\": {\n",
        "        \"Bleu d'Auvergne\": 0,\n",
        "        \"Bleu de Gex\": 0,\n",
        "        \"Bleu des Causses\": 0,\n",
        "        \"Bleu du Vercors-Sassenage\": 0,\n",
        "        \"Fourme d'Ambert\": 0,\n",
        "        \"Fourme de Montbrison\": 0\n",
        "      },\n",
        "      \"Pâte pressée\": {\n",
        "        \"Cuite\": {\n",
        "          \"Abondance\": 0,\n",
        "          \"Beaufort\": 0,\n",
        "          \"Comté\": 0,\n",
        "        },\n",
        "        \"Non cuite\": {\t\n",
        "          \"Cantal\": 0,\n",
        "          \"Laguiole\": 0,\n",
        "          \"Morbier\": 0,\n",
        "          \"Reblochon\": 0,\n",
        "          \"Saint-nectaire\": 0,\n",
        "          \"Salers\": 0,\n",
        "          \"Tome des Bauges\": 0,\n",
        "        }\n",
        "      }\n",
        "    }\n",
        "  }\n",
        "}"
      ]
    },
    {
      "cell_type": "code",
      "execution_count": null,
      "metadata": {
        "id": "Q6et4rnboy2h"
      },
      "outputs": [],
      "source": [
        "def trouver(criteres):\n",
        "  '''\n",
        "  >>> trouver('')\n",
        "  47\n",
        "  >>> trouver('spam')\n",
        "  0\n",
        "  >>> trouver('Cantal')\n",
        "  1\n",
        "  >>> trouver('Pâte pressée')\n",
        "  12\n",
        "  >>> trouver('Pâte pressée, Spam')\n",
        "  0\n",
        "  >>> trouver('Non cuite, Vache')\n",
        "  7\n",
        "  >>> trouver('Vache, Non cuite')\n",
        "  7\n",
        "  '''\n",
        "  return -1\n",
        "\n",
        "def iterdict(d, crit, count):\n",
        "\n",
        "    for k,v in d.items():  \n",
        "        if isinstance(v, dict):\n",
        "            if k == crit:\n",
        "                print(v)\n",
        "                \n",
        "                for l,w in v.items(): \n",
        "                    if isinstance(w, dict):\n",
        "                        if l == critere2:\n",
        "                            print(w)\n",
        "                            \n",
        "                            for m,x in w.items():\n",
        "                                if isinstance(x,dict):\n",
        "                                    pass\n",
        "                                else: \n",
        "                                    count +=1\n",
        "\n",
        "\n",
        "            iterdict(v, crit, count)\n",
        "    \n",
        "        #else:            \n",
        "            #print (k,\":\",v)\n",
        "    print(count)\n",
        "    return count\n",
        "\n",
        "critere1 = \"Vache\"\n",
        "critere2 = \"Pâte persillée\"\n",
        "count = 0\n",
        "\n",
        "iterdict(fromages, critere1, count)\n",
        "print(count)\n",
        "\n",
        "import doctest\n",
        "doctest.run_docstring_examples(trouver, globals())"
      ]
    },
    {
      "cell_type": "markdown",
      "metadata": {
        "id": "01B_HwaAACiA"
      },
      "source": [
        "## 4) Imiter le perroquet"
      ]
    },
    {
      "cell_type": "markdown",
      "metadata": {
        "id": "U1wq0qXQ6LLj"
      },
      "source": [
        "# Combattre la routine : \"Fighting Each Other\""
      ]
    },
    {
      "cell_type": "markdown",
      "metadata": {
        "id": "EYHOS1yv6eyT"
      },
      "source": [
        "## 1) Nettoyer le \"for k\""
      ]
    },
    {
      "cell_type": "markdown",
      "metadata": {
        "id": "_FwKM6Df6hPy"
      },
      "source": [
        "## 2) Varier ses variables"
      ]
    },
    {
      "cell_type": "markdown",
      "metadata": {
        "id": "6xwMHZY-6smL"
      },
      "source": [
        "## 3) Adopter une drôle de démarche"
      ]
    },
    {
      "cell_type": "markdown",
      "metadata": {
        "id": "Z4DaiAa46w8L"
      },
      "source": [
        "# Intégrer l'existant : \"Live Organ Transplants\""
      ]
    },
    {
      "cell_type": "markdown",
      "metadata": {},
      "source": [
        "## 1) Réparer la machine qui fait \\\"Bing\\\""
      ]
    },
    {
      "cell_type": "markdown",
      "metadata": {
        "id": "NajPU3UNqjyn"
      },
      "source": [
        "## 2) Soigner ses arguments"
      ]
    },
    {
      "cell_type": "markdown",
      "metadata": {
        "id": "MLND-5kFqqjI"
      },
      "source": [
        "## 3) Cerner la souris et son problème"
      ]
    },
    {
      "cell_type": "markdown",
      "metadata": {
        "id": "ZXpDQr_g7JT7"
      },
      "source": [
        "# Éprouver votre endurance : \"The Autumn Years\""
      ]
    },
    {
      "cell_type": "markdown",
      "metadata": {
        "id": "VKJUGrd3BGv_"
      },
      "source": [
        "## 1) Dépouiller les votes"
      ]
    },
    {
      "cell_type": "markdown",
      "metadata": {
        "id": "SA0rIZ70Hvoe"
      },
      "source": [
        "## 2) Prendre le dessus"
      ]
    },
    {
      "cell_type": "markdown",
      "metadata": {},
      "source": [
        "## 3) Appréhender le pire défi Python"
      ]
    }
  ],
  "metadata": {
    "colab": {
      "collapsed_sections": [
        "-Vatf6FjoOI1",
        "M-dCDr0twu_p",
        "XWzopJmxKbu0",
        "J1DBepVJvbzQ",
        "MLND-5kFqqjI"
      ],
      "name": "Défis de code Python.ipynb",
      "provenance": []
    },
    "kernelspec": {
      "display_name": "Python 3.10.4 64-bit",
      "language": "python",
      "name": "python3"
    },
    "language_info": {
      "name": "python",
      "version": "3.10.4"
    },
    "vscode": {
      "interpreter": {
        "hash": "4f946df053fbf2b937619d3c5458e7af74262f9a954d8797ba0b27400bcafe06"
      }
    }
  },
  "nbformat": 4,
  "nbformat_minor": 0
}
